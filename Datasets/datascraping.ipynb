{
  "nbformat": 4,
  "nbformat_minor": 0,
  "metadata": {
    "colab": {
      "name": "datascraping.ipynb",
      "provenance": [],
      "collapsed_sections": [],
      "machine_shape": "hm",
      "include_colab_link": true
    },
    "kernelspec": {
      "name": "python3",
      "display_name": "Python 3"
    },
    "accelerator": "TPU"
  },
  "cells": [
    {
      "cell_type": "markdown",
      "metadata": {
        "id": "view-in-github",
        "colab_type": "text"
      },
      "source": [
        "<a href=\"https://colab.research.google.com/github/rsrohan/Energy-Utilization-of-Rooftops-In-Urban-Areas/blob/datascraping/Datasets/datascraping.ipynb\" target=\"_parent\"><img src=\"https://colab.research.google.com/assets/colab-badge.svg\" alt=\"Open In Colab\"/></a>"
      ]
    },
    {
      "cell_type": "code",
      "metadata": {
        "id": "woK7d2cwzsgt",
        "colab_type": "code",
        "colab": {}
      },
      "source": [
        "try:\n",
        "    !mkdir img_mask\n",
        "except:\n",
        "    pass"
      ],
      "execution_count": 0,
      "outputs": []
    },
    {
      "cell_type": "code",
      "metadata": {
        "id": "1Etfzd3UX4fF",
        "colab_type": "code",
        "outputId": "aebe7f2d-6c97-45d5-8347-df2a20b1b220",
        "colab": {
          "base_uri": "https://localhost:8080/",
          "height": 54
        }
      },
      "source": [
        "%tensorflow_version 1.x\n",
        "from google.colab import drive\n",
        "drive.mount('/content/gdrive')"
      ],
      "execution_count": 0,
      "outputs": [
        {
          "output_type": "stream",
          "text": [
            "Drive already mounted at /content/gdrive; to attempt to forcibly remount, call drive.mount(\"/content/gdrive\", force_remount=True).\n"
          ],
          "name": "stdout"
        }
      ]
    },
    {
      "cell_type": "code",
      "metadata": {
        "id": "ScLttSQN94fX",
        "colab_type": "code",
        "colab": {}
      },
      "source": [
        "from bs4 import BeautifulSoup as bs\n",
        "import requests\n",
        "from PIL import Image\n",
        "import urllib.request\n",
        "\n",
        "link = 'https://mypages.valdosta.edu/rpmihail/skyfinder/images/index.html'\n",
        "mainpage = requests.get(link)\n",
        "soup = bs(mainpage.content,'html.parser')"
      ],
      "execution_count": 0,
      "outputs": []
    },
    {
      "cell_type": "code",
      "metadata": {
        "id": "mjMUk3BG-lBQ",
        "colab_type": "code",
        "colab": {}
      },
      "source": [
        "all_links = soup.find_all('a')\n"
      ],
      "execution_count": 0,
      "outputs": []
    },
    {
      "cell_type": "code",
      "metadata": {
        "id": "IPOKUTjf-sKR",
        "colab_type": "code",
        "colab": {}
      },
      "source": [
        "source = 'https://mypages.valdosta.edu/rpmihail/skyfinder/'\n",
        "\n",
        "for i in range(len(all_links)):\n",
        "  if all_links[i].get_text('a') == 'mask': \n",
        "    print(all_links[i])\n",
        "    href_mask = all_links[i].get('href')\n",
        "    href_mask = href_mask.lstrip('../')\n",
        "    print(href_mask)\n",
        "    mask_link = source + href_mask\n",
        "    print(mask_link)\n",
        "    mask_name = href_mask.lstrip('Masks/')\n",
        "    print(mask_name)\n",
        "    with urllib.request.urlopen(mask_link) as url:\n",
        "      with open('/content/gdrive/My Drive/minor/img_masks/' + mask_name, 'wb') as f:\n",
        "        f.write(url.read())\n"
      ],
      "execution_count": 0,
      "outputs": []
    },
    {
      "cell_type": "code",
      "metadata": {
        "id": "LTwt6zeuuNwU",
        "colab_type": "code",
        "colab": {}
      },
      "source": [
        "import pandas as pd\n",
        "from PIL import Image\n",
        "import numpy as np\n",
        "import os\n",
        "def rle_encoding(x):\n",
        "    '''\n",
        "    x: numpy array of shape (height, width), 1 - mask, 0 - background\n",
        "    Returns run length as list\n",
        "    '''\n",
        "    dots = np.where(x.T.flatten()==1)[0] # .T sets Fortran order down-then-right\n",
        "    run_lengths = []\n",
        "    prev = -2\n",
        "    for b in dots:\n",
        "        if (b>prev+1): run_lengths.extend((b+1, 0))\n",
        "        run_lengths[-1] += 1\n",
        "        prev = b\n",
        "    return run_lengths\n",
        "\n",
        "\n",
        "if __name__ == '__main__':\n",
        "    input_path = '/content/img_mask'\n",
        "    masks = [f for f in os.listdir(input_path)]\n",
        "    print(masks)\n",
        "    masks = sorted(masks)\n",
        "    print(masks)\n",
        "    masks.remove('4679.png')\n",
        "    #masks.remove('.ipynb_checkpoints')\n",
        "    print(masks)\n",
        "\n",
        "    encodings = []\n",
        "    dataset_path = '/content/gdrive/My Drive/minor/dataset'\n",
        "    img_name = []\n",
        "    N = len(masks)    # process first N masks\n",
        "    for i,m in enumerate(masks[:N]):\n",
        "        if i % 10 == 0: print('{}/{}'.format(i, len(masks)))\n",
        "        img = Image.open(os.path.join(input_path, m))\n",
        "        print('image number: {}'.format(masks[i]))\n",
        "        #print(img)\n",
        "        x = np.array(img.getdata(), dtype=np.uint8).reshape(img.size[::-1])\n",
        "        #print(x)\n",
        "        x = x // 255\n",
        "        #print(x)\n",
        "        masks_name = m.rstrip('.png')\n",
        "        print(masks_name)\n",
        "        i = 0\n",
        "        for f in os.listdir(dataset_path):\n",
        "          if (f.startswith(masks_name)):\n",
        "            print(f)\n",
        "            submasks_name = masks_name + '_' + str(i)\n",
        "            print(submasks_name)\n",
        "            img_name.append(submasks_name)\n",
        "            encodings.append(rle_encoding(x))\n",
        "            i= i+ 1\n",
        "        #img_name.append()\n",
        "        \n",
        "    #check output\n",
        "    conv_encod = []\n",
        "    conv = lambda l: ' '.join(map(str, l)) # list -> string\n",
        "    for i in range(len(encodings)):\n",
        "      conv_encod.append(conv(encodings[i]))\n",
        "    #  np.savetxt('masksdata.csv', (masks[i],conv(encodings[i])), delimiter=',')\n",
        "\n",
        "    mydict = {'img': img_name , 'pixels': conv_encod}\n",
        "    df = pd.DataFrame(mydict)\n",
        "    df.to_csv('/content/gdrive/My Drive/minor/dataset/train_masks.csv') \n"
      ],
      "execution_count": 0,
      "outputs": []
    },
    {
      "cell_type": "code",
      "metadata": {
        "id": "zMWcvlfYSdyg",
        "colab_type": "code",
        "outputId": "bba54dff-b7b8-461f-a6d4-9ef14dc93dd2",
        "colab": {
          "base_uri": "https://localhost:8080/",
          "height": 204
        }
      },
      "source": [
        "df_train = pd.read_csv('/content/gdrive/My Drive/minor/train_masks2.csv')\n",
        "#df_train['img'] = (df_train['img'].astype(str)).rstrip('.png')\n",
        "\n",
        "df_train.head()"
      ],
      "execution_count": 0,
      "outputs": [
        {
          "output_type": "execute_result",
          "data": {
            "text/html": [
              "<div>\n",
              "<style scoped>\n",
              "    .dataframe tbody tr th:only-of-type {\n",
              "        vertical-align: middle;\n",
              "    }\n",
              "\n",
              "    .dataframe tbody tr th {\n",
              "        vertical-align: top;\n",
              "    }\n",
              "\n",
              "    .dataframe thead th {\n",
              "        text-align: right;\n",
              "    }\n",
              "</style>\n",
              "<table border=\"1\" class=\"dataframe\">\n",
              "  <thead>\n",
              "    <tr style=\"text-align: right;\">\n",
              "      <th></th>\n",
              "      <th>Unnamed: 0</th>\n",
              "      <th>img</th>\n",
              "      <th>pixels</th>\n",
              "    </tr>\n",
              "  </thead>\n",
              "  <tbody>\n",
              "    <tr>\n",
              "      <th>0</th>\n",
              "      <td>0</td>\n",
              "      <td>10066_0</td>\n",
              "      <td>5061 9 5494 3 5541 10 5973 8 5982 13 6021 10 6...</td>\n",
              "    </tr>\n",
              "    <tr>\n",
              "      <th>1</th>\n",
              "      <td>1</td>\n",
              "      <td>10066_1</td>\n",
              "      <td>5061 9 5494 3 5541 10 5973 8 5982 13 6021 10 6...</td>\n",
              "    </tr>\n",
              "    <tr>\n",
              "      <th>2</th>\n",
              "      <td>2</td>\n",
              "      <td>10066_2</td>\n",
              "      <td>5061 9 5494 3 5541 10 5973 8 5982 13 6021 10 6...</td>\n",
              "    </tr>\n",
              "    <tr>\n",
              "      <th>3</th>\n",
              "      <td>3</td>\n",
              "      <td>10066_3</td>\n",
              "      <td>5061 9 5494 3 5541 10 5973 8 5982 13 6021 10 6...</td>\n",
              "    </tr>\n",
              "    <tr>\n",
              "      <th>4</th>\n",
              "      <td>4</td>\n",
              "      <td>10066_4</td>\n",
              "      <td>5061 9 5494 3 5541 10 5973 8 5982 13 6021 10 6...</td>\n",
              "    </tr>\n",
              "  </tbody>\n",
              "</table>\n",
              "</div>"
            ],
            "text/plain": [
              "   Unnamed: 0      img                                             pixels\n",
              "0           0  10066_0  5061 9 5494 3 5541 10 5973 8 5982 13 6021 10 6...\n",
              "1           1  10066_1  5061 9 5494 3 5541 10 5973 8 5982 13 6021 10 6...\n",
              "2           2  10066_2  5061 9 5494 3 5541 10 5973 8 5982 13 6021 10 6...\n",
              "3           3  10066_3  5061 9 5494 3 5541 10 5973 8 5982 13 6021 10 6...\n",
              "4           4  10066_4  5061 9 5494 3 5541 10 5973 8 5982 13 6021 10 6..."
            ]
          },
          "metadata": {
            "tags": []
          },
          "execution_count": 8
        }
      ]
    },
    {
      "cell_type": "code",
      "metadata": {
        "id": "15m8iaDTWWAM",
        "colab_type": "code",
        "colab": {}
      },
      "source": [
        ""
      ],
      "execution_count": 0,
      "outputs": []
    },
    {
      "cell_type": "code",
      "metadata": {
        "id": "nMBm4QYEtUTd",
        "colab_type": "code",
        "cellView": "both",
        "colab": {}
      },
      "source": [
        "\n",
        "#@markdown Moving files into sub folders\n",
        "from google.colab import drive\n",
        "drive.mount('/content/gdrive')\n",
        "import os\n",
        "parent_dir = '/content/gdrive/My Drive/minor/dataset'     \n",
        "import shutil\n",
        "\n",
        "for f in os.listdir('/content/gdrive/My Drive/minor/dataset'):\n",
        "  print(f)\n",
        "  src = os.path.join('/content/gdrive/My Drive/minor/dataset', f)\n",
        "  #print(src)\n",
        "  path = os.path.join(parent_dir, f.split('_')[0])\n",
        "  try:\n",
        "   os.mkdir(path)\n",
        "  except:\n",
        "    pass    \n",
        "  dst = os.path.join(path, f)\n",
        "  print(dst)\n",
        "  if (f.endswith('.png')):\n",
        "    shutil.move(src, dst)\n"
      ],
      "execution_count": 0,
      "outputs": []
    },
    {
      "cell_type": "code",
      "metadata": {
        "id": "c762DUE9Cy7U",
        "colab_type": "code",
        "colab": {}
      },
      "source": [
        ""
      ],
      "execution_count": 0,
      "outputs": []
    }
  ]
}